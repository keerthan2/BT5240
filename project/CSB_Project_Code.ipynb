{
  "nbformat": 4,
  "nbformat_minor": 0,
  "metadata": {
    "colab": {
      "name": "CSB Test v3.ipynb",
      "provenance": [],
      "collapsed_sections": [],
      "toc_visible": true
    },
    "kernelspec": {
      "name": "python3",
      "display_name": "Python 3"
    },
    "language_info": {
      "name": "python"
    }
  },
  "cells": [
    {
      "cell_type": "code",
      "metadata": {
        "colab": {
          "base_uri": "https://localhost:8080/"
        },
        "id": "HJrRdb1LjioY",
        "outputId": "6b065e34-1214-48b1-b560-76a3970bacc6"
      },
      "source": [
        "from google.colab import drive\n",
        "drive.mount('/content/drive')"
      ],
      "execution_count": null,
      "outputs": [
        {
          "output_type": "stream",
          "text": [
            "Mounted at /content/drive\n"
          ],
          "name": "stdout"
        }
      ]
    },
    {
      "cell_type": "code",
      "metadata": {
        "id": "-TG839Zfjhrf"
      },
      "source": [
        "base = '/content/drive/MyDrive/CSB_project'\n",
        "import os\n",
        "os.chdir(base)"
      ],
      "execution_count": null,
      "outputs": []
    },
    {
      "cell_type": "code",
      "metadata": {
        "id": "p2rxR0VtjoXD"
      },
      "source": [
        "import networkx as nx\n",
        "import requests\n",
        "import pandas as pd\n",
        "import numpy as np\n",
        "import matplotlib.pyplot as plt\n",
        "import time\n",
        "from matplotlib import cm\n",
        "import collections"
      ],
      "execution_count": null,
      "outputs": []
    },
    {
      "cell_type": "markdown",
      "metadata": {
        "id": "LicafcZbW1ob"
      },
      "source": [
        "# Identifying influential nodes"
      ]
    },
    {
      "cell_type": "code",
      "metadata": {
        "id": "7RempRjM7QtG"
      },
      "source": [
        "def init_network(data_path='CCSB-Y2H_data.txt'):\n",
        "  r = open(data_path).read()\n",
        "  lines = r.split('\\n') # pull the text from the response object and split based on new lines\n",
        "  data = [l.split('\\t') for l in lines] # split each line into its components based on tabs\n",
        "  # convert to dataframe using the first row as the column names; drop empty, final row\n",
        "  df = pd.DataFrame(data[:])\n",
        "\n",
        "  G=nx.Graph(name='Protein Interaction Graph')\n",
        "  interactions = np.array(df)\n",
        "  for i in range(len(interactions)):\n",
        "      interaction = interactions[i]\n",
        "      a = interaction[0] # protein a node\n",
        "      b = interaction[1] # protein b node\n",
        "      # w = float(interaction[2]) # score as weighted edge where high scores = low weight\n",
        "      G.add_edges_from([(a,b)]) # add weighted edge to graph\n",
        "  original_node_size = len(G.nodes)\n",
        "  return G"
      ],
      "execution_count": null,
      "outputs": []
    },
    {
      "cell_type": "code",
      "metadata": {
        "id": "QfOIluB6nhGv"
      },
      "source": [
        "def CI(G,i,L):\n",
        "  sub1 = nx.ego_graph(G, n=i, radius=L-1).nodes\n",
        "  sub2 = nx.ego_graph(G, n=i, radius=L).nodes\n",
        "  ball_nodes = list(set(sub2)^set(sub1))\n",
        "  t1 = G.degree[i]-1\n",
        "  t2 = 0\n",
        "  for j in ball_nodes:\n",
        "    t2 += G.degree[j]-1\n",
        "  return t1*t2\n",
        "\n",
        "def comp_lamb(CI_list, N, avg_deg, L):\n",
        "  return (sum(CI_list)/(N*avg_deg))**(1/(L+1))"
      ],
      "execution_count": null,
      "outputs": []
    },
    {
      "cell_type": "code",
      "metadata": {
        "id": "TB_eY4s0W5Up",
        "colab": {
          "base_uri": "https://localhost:8080/"
        },
        "outputId": "acebf6dc-1150-460d-c337-d4a5b5ef99a2"
      },
      "source": [
        "# data_path = 'CCSB-Y2H_data.txt'\n",
        "data_path = 'CCSB-WI_data.txt'\n",
        "G_orig = init_network(data_path=data_path)\n",
        "\n",
        "L = 3\n",
        "nodes_orig = [n for n in G_orig.nodes]\n",
        "x = {n:1 for n in nodes_orig}\n",
        "avg_deg = np.mean([G_orig.degree[n] for n in nodes_orig])\n",
        "N = len(nodes_orig)\n",
        "lamda = 10\n",
        "imp_nodes = []\n",
        "itr = 0\n",
        "while lamda > 1 and len(imp_nodes)<20:\n",
        "  nodes = [n for n in G_orig.nodes]\n",
        "  CI_list = [0 for i in range(len(nodes))]\n",
        "  CI_dict = {}\n",
        "  for idx, node in enumerate(nodes):\n",
        "    if x[node] == 1:\n",
        "      CI_val = CI(G_orig,node,L)\n",
        "      CI_dict[CI_val] = node\n",
        "      CI_list[idx] = CI_val\n",
        "  max_CI = np.max(CI_list)\n",
        "  node2remove = CI_dict[max_CI]\n",
        "  G_orig.remove_node(node2remove)\n",
        "  x[node2remove] = 0\n",
        "  lamda = comp_lamb(CI_list, N, avg_deg, L)\n",
        "  print(itr, lamda)\n",
        "  itr += 1\n",
        "  imp_nodes = [k for k in x if x[k]==0]"
      ],
      "execution_count": null,
      "outputs": [
        {
          "output_type": "stream",
          "text": [
            "0 4.144880391942751\n",
            "1 4.010554687117045\n",
            "2 3.9118995126388203\n",
            "3 3.7753121724300027\n",
            "4 3.683463778948973\n",
            "5 3.5433310031593837\n",
            "6 3.4540020957482658\n",
            "7 3.3512722515222553\n",
            "8 3.2450299900676542\n",
            "9 3.1051287197179054\n",
            "10 3.03106789572479\n",
            "11 2.9362114448012333\n",
            "12 2.8668569870011034\n",
            "13 2.788947410829659\n",
            "14 2.695094651425349\n",
            "15 2.6297151935466614\n",
            "16 2.5340154656232996\n",
            "17 2.4394674713255906\n",
            "18 2.316754787811287\n",
            "19 2.236129506825206\n"
          ],
          "name": "stdout"
        }
      ]
    },
    {
      "cell_type": "code",
      "metadata": {
        "colab": {
          "base_uri": "https://localhost:8080/"
        },
        "id": "6ND_3Et2Q-WR",
        "outputId": "4ed742b0-3c94-4361-8903-343351fb8902"
      },
      "source": [
        "imp_nodes"
      ],
      "execution_count": null,
      "outputs": [
        {
          "output_type": "execute_result",
          "data": {
            "text/plain": [
              "['R05F9.10',\n",
              " 'Y69H2.3',\n",
              " 'DH11.4',\n",
              " 'K09B11.9',\n",
              " 'R02F2.5',\n",
              " 'ZK1053.5',\n",
              " 'W05H7.4',\n",
              " 'T11B7.1',\n",
              " 'C50F4.1',\n",
              " 'K12C11.2',\n",
              " 'C06G1.5',\n",
              " 'Y65B4BR.4',\n",
              " 'ZK849.2',\n",
              " 'ZK1055.7',\n",
              " 'C06A5.9',\n",
              " 'F44G3.9',\n",
              " 'ZK121.2',\n",
              " 'M04G12.1',\n",
              " 'W10C8.2',\n",
              " 'F01G10.2']"
            ]
          },
          "metadata": {
            "tags": []
          },
          "execution_count": 7
        }
      ]
    },
    {
      "cell_type": "code",
      "metadata": {
        "id": "KKJjy398QpfM"
      },
      "source": [
        "G_orig = init_network(data_path=data_path)"
      ],
      "execution_count": null,
      "outputs": []
    },
    {
      "cell_type": "code",
      "metadata": {
        "colab": {
          "base_uri": "https://localhost:8080/"
        },
        "id": "KZo8QPeIYDIh",
        "outputId": "13239cd4-ca4e-4be0-f81c-1fedb08cfa5d"
      },
      "source": [
        "[CI(G_orig,n,L) for n in imp_nodes]"
      ],
      "execution_count": null,
      "outputs": [
        {
          "output_type": "execute_result",
          "data": {
            "text/plain": [
              "[57715,\n",
              " 27232,\n",
              " 12380,\n",
              " 18300,\n",
              " 30096,\n",
              " 16652,\n",
              " 13294,\n",
              " 27950,\n",
              " 13770,\n",
              " 11556,\n",
              " 10116,\n",
              " 16620,\n",
              " 25172,\n",
              " 11745,\n",
              " 26410,\n",
              " 13095,\n",
              " 18240,\n",
              " 16620,\n",
              " 13554,\n",
              " 9996]"
            ]
          },
          "metadata": {
            "tags": []
          },
          "execution_count": 9
        }
      ]
    },
    {
      "cell_type": "markdown",
      "metadata": {
        "id": "NaZfpZAOYG_w"
      },
      "source": [
        "# Constructing seed via INF "
      ]
    },
    {
      "cell_type": "code",
      "metadata": {
        "colab": {
          "base_uri": "https://localhost:8080/"
        },
        "id": "ubz8yLtBsNQY",
        "outputId": "cc246791-df9d-4fbb-bd4b-b7540b9d7a63"
      },
      "source": [
        "edge_list = []\n",
        "for imp_node_idx in range(len(imp_nodes)):\n",
        "  imp_nodes_tmp = imp_nodes[imp_node_idx:]\n",
        "  imp_node = imp_nodes[imp_node_idx]\n",
        "  other_imp = [x for x in imp_nodes_tmp if x!=imp_node]\n",
        "  neighs = [n for n in G_orig.neighbors(imp_node)]\n",
        "  for oi in other_imp:\n",
        "    if oi in neighs:\n",
        "      edge_list.append((imp_node,oi))\n",
        "  print(imp_node,len(neighs))"
      ],
      "execution_count": null,
      "outputs": [
        {
          "output_type": "stream",
          "text": [
            "R05F9.10 85\n",
            "Y69H2.3 46\n",
            "DH11.4 21\n",
            "K09B11.9 31\n",
            "R02F2.5 45\n",
            "ZK1053.5 24\n",
            "W05H7.4 23\n",
            "T11B7.1 44\n",
            "C50F4.1 18\n",
            "K12C11.2 18\n",
            "C06G1.5 19\n",
            "Y65B4BR.4 31\n",
            "ZK849.2 29\n",
            "ZK1055.7 15\n",
            "C06A5.9 39\n",
            "F44G3.9 16\n",
            "ZK121.2 31\n",
            "M04G12.1 20\n",
            "W10C8.2 18\n",
            "F01G10.2 18\n"
          ],
          "name": "stdout"
        }
      ]
    },
    {
      "cell_type": "code",
      "metadata": {
        "id": "BtrhnSrWwMmk"
      },
      "source": [
        "G_seed_inf = nx.Graph(name='Seed Graph')"
      ],
      "execution_count": null,
      "outputs": []
    },
    {
      "cell_type": "code",
      "metadata": {
        "id": "rIh_jvZ7wVUh"
      },
      "source": [
        "G_seed_inf.add_edges_from(edge_list)"
      ],
      "execution_count": null,
      "outputs": []
    },
    {
      "cell_type": "markdown",
      "metadata": {
        "id": "h3HnUBRUs9-M"
      },
      "source": [
        "# Constructing seed via clique"
      ]
    },
    {
      "cell_type": "code",
      "metadata": {
        "id": "OqLGK9xiqd7o"
      },
      "source": [
        "def seed_clique(G):\n",
        "  max_cliques = nx.find_cliques(G)\n",
        "  clique_size = []\n",
        "  clique_nodes = []\n",
        "\n",
        "  for clique in max_cliques:\n",
        "    clique_nodes.append(clique)\n",
        "    clique_size.append(len(clique))\n",
        "  max_cliques_nodes = clique_nodes[np.argmax(clique_size)]\n",
        "\n",
        "  non_mcq_nodes = [nodes for nodes in G.nodes if nodes not in max_cliques_nodes]\n",
        "  differenced_graph = G.subgraph(non_mcq_nodes)\n",
        "\n",
        "  max_cliques2 = nx.find_cliques(differenced_graph)\n",
        "  clique_size2 = []\n",
        "  clique_nodes2 = []\n",
        "\n",
        "  for clique2 in max_cliques2:\n",
        "    clique_nodes2.append(clique2)\n",
        "    clique_size2.append(len(clique2))\n",
        "  max_cliques_nodes2 = clique_nodes2[np.argmax(clique_size2)]\n",
        "\n",
        "  G_seed_clique = G.subgraph(max_cliques_nodes + max_cliques_nodes2)\n",
        "\n",
        "  return G_seed_clique"
      ],
      "execution_count": null,
      "outputs": []
    },
    {
      "cell_type": "code",
      "metadata": {
        "id": "zqETSm-jAKbM"
      },
      "source": [
        "G_seed_clique = seed_clique(G_orig)"
      ],
      "execution_count": null,
      "outputs": []
    },
    {
      "cell_type": "markdown",
      "metadata": {
        "id": "mTAcbj1a0Z2F"
      },
      "source": [
        "# Define Network Class"
      ]
    },
    {
      "cell_type": "code",
      "metadata": {
        "id": "daiUmRaNv8TT"
      },
      "source": [
        "class Node:\n",
        "  def __init__(self, idx, label = \"None\"):\n",
        "    self.label = label\n",
        "    self.idx = idx\n",
        "    self.linked = []\n",
        "  \n",
        "  def Describe(self):\n",
        "    print(\"==============================\")\n",
        "    print(f\"Node idx {self.idx}, label:{self.label}\")\n",
        "    print(f\"Linked: {self.linked}\")\n",
        "\n",
        "class Network:\n",
        "  \n",
        "  def __init__(self):\n",
        "    self.nodes = []\n",
        "\n",
        "  def nxgraph2Network(self, nxgraph):\n",
        "    network = Network()\n",
        "    # Get node list, edges list\n",
        "    node_list = nxgraph.nodes\n",
        "    edge_list = nxgraph.edges\n",
        "\n",
        "    label_to_idx = {}\n",
        "\n",
        "    for idx,node in enumerate(node_list):\n",
        "      # First add all nodes as unconnected\n",
        "      new_node = Node(idx, node)\n",
        "      network.nodes.append(new_node)\n",
        "      # Dictionary to keep track of label to idx correspondence\n",
        "      label_to_idx[node] = idx\n",
        "\n",
        "    for edge in edge_list:\n",
        "      # Add all edges in edges list\n",
        "      from_node = label_to_idx[edge[0]]\n",
        "      to_node = label_to_idx[edge[1]]\n",
        "      network.AddEdge(from_node, to_node)\n",
        "    \n",
        "    return network\n",
        "\n",
        "  def Network2nxgraph(self):\n",
        "    G1 = nx.Graph()\n",
        "    nodes_list = list(range(len(self.nodes)))\n",
        "\n",
        "    # Add nodes\n",
        "    G1.add_nodes_from(nodes_list)\n",
        "\n",
        "    # Reverse-engineer the edges lists\n",
        "    edges_list = self.GetEdgesLists()\n",
        "\n",
        "    G1.add_edges_from(edges_list)\n",
        "\n",
        "    return G1\n",
        "\n",
        "  def GetEdgesLists(self):\n",
        "    \"\"\"\n",
        "    Function for internal use. Returns the edges of the network in a tuple-list format.\n",
        "    \"\"\"\n",
        "    edges_list = []\n",
        "\n",
        "    for node in self.nodes:\n",
        "      links = node.linked\n",
        "      for link in links:\n",
        "        # If the link is of smaller index, its node was visited already\n",
        "        if link < node.idx:\n",
        "          edges_list.append((node.idx,link))\n",
        "          \n",
        "    return edges_list\n",
        "\n",
        "  def AddEdge(self, from_idx, to_idx):\n",
        "    # Prevent duplicate links\n",
        "    if (to_idx in self.nodes[from_idx].linked or from_idx in self.nodes[to_idx].linked):\n",
        "      return\n",
        "    # Special case: self-loop\n",
        "    if (to_idx == from_idx):\n",
        "      self.nodes[from_idx].linked.append(to_idx)\n",
        "      return\n",
        "    # General case\n",
        "    self.nodes[from_idx].linked.append(to_idx)\n",
        "    self.nodes[to_idx].linked.append(from_idx)\n",
        "\n",
        "  def RemoveEdge(self, from_idx, to_idx):\n",
        "    if (to_idx in self.nodes[from_idx].linked or from_idx in self.nodes[to_idx].linked):\n",
        "      # Special case: self-loop\n",
        "      if (to_idx == from_idx):\n",
        "        self.nodes[from_idx].linked.remove(to_idx)\n",
        "      else:\n",
        "        self.nodes[from_idx].linked.remove(to_idx)\n",
        "        self.nodes[to_idx].linked.remove(from_idx)\n",
        "\n",
        "  def RewireEdge(self, from_idx, old_to_idx, new_to_idx):\n",
        "    self.RemoveEdge(from_idx, old_to_idx)\n",
        "    self.AddEdge(from_idx, new_to_idx)\n",
        "\n",
        "  def DuplicateNode(self, node_idx):\n",
        "\n",
        "    label = self.nodes[node_idx].label\n",
        "    new_node_idx = len(self.nodes)\n",
        "    new_node = Node(new_node_idx, label)\n",
        "    self.nodes.append(new_node)\n",
        "    for link_idx in self.nodes[node_idx].linked:\n",
        "      self.AddEdge(link_idx, new_node_idx)\n",
        "\n",
        "  def Describe(self):\n",
        "    print(\"==============================\")\n",
        "    print(f\"Network with {len(self.nodes)} nodes.\")\n",
        "    print(\"==============================\")\n",
        "\n",
        "class Simulator:\n",
        "  def __init__(self, node_remove_prob = 0.1, node_create_prob = 0.2):\n",
        "    self.alpha = node_create_prob\n",
        "    self.delta = node_remove_prob\n",
        "\n",
        "  def SimOneTimeStep(self, network):\n",
        "    # Randomly pick one node\n",
        "    rand_node = np.random.choice(network.nodes)\n",
        "    rand_node_idx = rand_node.idx\n",
        "\n",
        "    # Originally connected to links of the original node\n",
        "    original_links = rand_node.linked\n",
        "    network.DuplicateNode(rand_node_idx)\n",
        "    for idx in range(len(network.nodes) - 1):\n",
        "      if (idx in original_links):\n",
        "        # delta probability of removing link\n",
        "        if np.random.rand() < self.delta:\n",
        "          network.RemoveEdge(idx, rand_node_idx)\n",
        "      else:\n",
        "        # alpha probability of adding link\n",
        "        if np.random.rand() < self.alpha:\n",
        "          network.AddEdge(idx, rand_node_idx)\n",
        "  \n",
        "  def Simulate(self, network, max_nodes = 500, seed = 0):\n",
        "    np.random.seed(seed)\n",
        "    while (len(network.nodes) < max_nodes):\n",
        "      self.SimOneTimeStep(network)\n",
        "\n",
        "  def Describe(self):\n",
        "    print(f\"Simulator configuration: alpha = {self.alpha}, delta = {self.delta}\")"
      ],
      "execution_count": null,
      "outputs": []
    },
    {
      "cell_type": "code",
      "metadata": {
        "id": "rRzLIgWXa1b1"
      },
      "source": [
        "# seed_network = Network().nxgraph2Network(G_seed)\n",
        "\n",
        "\n",
        "# completed_graph = seed_network.Network2nxgraph()\n",
        "# nx.draw(seed_network.Network2nxgraph())"
      ],
      "execution_count": null,
      "outputs": []
    },
    {
      "cell_type": "code",
      "metadata": {
        "id": "JVm8eF03e5v2"
      },
      "source": [
        "# [n.Describe() for n in seed_network.nodes]"
      ],
      "execution_count": null,
      "outputs": []
    },
    {
      "cell_type": "markdown",
      "metadata": {
        "id": "lna8ARoLSRAH"
      },
      "source": [
        "# Simulation"
      ]
    },
    {
      "cell_type": "code",
      "metadata": {
        "id": "bxEq2TOIfj21"
      },
      "source": [
        "def gen_network(G_seed, G_orig, node_remove_prob, node_create_prob, seed = 0):\n",
        "  simulator = Simulator(node_remove_prob, node_create_prob)\n",
        "  seed_network = Network().nxgraph2Network(G_seed)\n",
        "  original_node_size = len(G_orig.nodes)\n",
        "  simulator.Simulate(seed_network, max_nodes = original_node_size, seed = seed)\n",
        "  completed_graph = seed_network.Network2nxgraph()\n",
        "  G = completed_graph\n",
        "  return G"
      ],
      "execution_count": null,
      "outputs": []
    },
    {
      "cell_type": "code",
      "metadata": {
        "id": "x5X1lzy7msjY"
      },
      "source": [
        "# Setting these probs to its optimal value\n",
        "node_remove_prob_inf = 0.6\n",
        "node_create_prob_inf = 0.001\n",
        "\n",
        "node_remove_prob_clique = 0.5578947368421052\n",
        "node_create_prob_clique = 0\n",
        "\n",
        "G_inf = gen_network(G_seed_inf,G_orig,node_remove_prob_inf,node_create_prob_inf)\n",
        "G_clique = gen_network(G_seed_clique,G_orig,node_remove_prob_clique,node_create_prob_clique)"
      ],
      "execution_count": null,
      "outputs": []
    },
    {
      "cell_type": "markdown",
      "metadata": {
        "id": "SIEYMEZ3dJVj"
      },
      "source": [
        "# Parameter estimation [Dont run]"
      ]
    },
    {
      "cell_type": "code",
      "metadata": {
        "id": "oT3hQaZuhSeX"
      },
      "source": [
        "import sklearn\n",
        "import numpy as np\n",
        "from scipy.stats import entropy\n",
        "\n",
        "def est_param(G_seed, G_orig, node_remove_prob_list, node_create_prob_list, num_realisations = 20):\n",
        "  opt_ent = float('inf')\n",
        "  opt_diff = float('inf')\n",
        "  nedg2 = len(G_orig.edges)\n",
        "  for node_remove_prob in node_remove_prob_list:\n",
        "    # print(f\"Optimal so far: {opt_nrp} / {opt_ncp}\")\n",
        "    for node_create_prob in node_create_prob_list:\n",
        "      print(node_remove_prob,node_create_prob)\n",
        "      avgdiff = 0\n",
        "      for idx in range(num_realisations):\n",
        "        G = gen_network(G_seed,G_orig,node_remove_prob,node_create_prob)\n",
        "        dist1 = np.array(sorted([d for n, d in nx.degree_centrality(G).items()], reverse=True))\n",
        "        dist1 = dist1/sum(dist1)\n",
        "        dist2 = np.array(sorted([d for n, d in nx.degree_centrality(G_orig).items()], reverse=True))\n",
        "        dist2 = dist2/sum(dist2)\n",
        "        ent = entropy(pk=dist1,qk=dist2)\n",
        "        ent_factor = ((1/(ent+1)) + (ent+1))/2\n",
        "        nedg1 = len(G.edges)\n",
        "        diff = (1 + abs(nedg1-nedg2)) * ent_factor\n",
        "        # diff = abs(nedg1-nedg2)\n",
        "        # diff = ent\n",
        "        avgdiff += diff / num_realisations\n",
        "      # diff = abs(np.mean([d for n,d in G.degree()])-np.mean([d for n,d in G_orig.degree()]))\n",
        "      if avgdiff < opt_diff:\n",
        "        opt_diff = avgdiff\n",
        "        opt_nrp = node_remove_prob\n",
        "        opt_ncp = node_create_prob\n",
        "        opt_G = G\n",
        "  print(f\"Optimal NRP: {opt_nrp} | Optimal NCP: {opt_ncp}\")\n",
        "  return opt_G, opt_nrp, opt_ncp"
      ],
      "execution_count": null,
      "outputs": []
    },
    {
      "cell_type": "code",
      "metadata": {
        "id": "_EMm6sIq-0y8",
        "colab": {
          "base_uri": "https://localhost:8080/"
        },
        "outputId": "46fd17ff-a903-4e87-f8a9-05d878f916fb"
      },
      "source": [
        "node_remove_prob_list = np.linspace(0.45,0.6,num=20)\n",
        "node_create_prob_list = [0.001]\n",
        "num_realisations = 20\n",
        "opt_G , opt_nrp, opt_ncp = est_param(G_seed_inf, G_orig, node_remove_prob_list, node_create_prob_list, num_realisations = num_realisations)"
      ],
      "execution_count": null,
      "outputs": [
        {
          "output_type": "stream",
          "text": [
            "0.45 0.001\n",
            "0.4578947368421053 0.001\n",
            "0.46578947368421053 0.001\n",
            "0.4736842105263158 0.001\n",
            "0.48157894736842105 0.001\n",
            "0.48947368421052634 0.001\n",
            "0.49736842105263157 0.001\n",
            "0.5052631578947369 0.001\n",
            "0.5131578947368421 0.001\n",
            "0.5210526315789473 0.001\n",
            "0.5289473684210526 0.001\n",
            "0.5368421052631579 0.001\n",
            "0.5447368421052632 0.001\n",
            "0.5526315789473684 0.001\n",
            "0.5605263157894737 0.001\n",
            "0.5684210526315789 0.001\n",
            "0.5763157894736842 0.001\n",
            "0.5842105263157895 0.001\n",
            "0.5921052631578947 0.001\n",
            "0.6 0.001\n",
            "Optimal NRP: 0.6 | Optimal NCP: 0.001\n"
          ],
          "name": "stdout"
        }
      ]
    },
    {
      "cell_type": "markdown",
      "metadata": {
        "id": "hWIqOlRuyXD8"
      },
      "source": [
        "# Network-Centrality"
      ]
    },
    {
      "cell_type": "code",
      "metadata": {
        "id": "q31bknJKya05"
      },
      "source": [
        "from networkx.algorithms.centrality import eigenvector_centrality, katz_centrality, \\\n",
        "closeness_centrality, information_centrality, harmonic_centrality, percolation_centrality, \\\n",
        "betweenness_centrality, degree_centrality, trophic_levels\n",
        "\n",
        "from sklearn.decomposition import PCA\n",
        "from numpy.linalg import norm"
      ],
      "execution_count": null,
      "outputs": []
    },
    {
      "cell_type": "code",
      "metadata": {
        "id": "ELSddmlo0kEh"
      },
      "source": [
        "# cent_func_list = [eigenvector_centrality, katz_centrality, closeness_centrality, \n",
        "#                   information_centrality, harmonic_centrality, percolation_centrality,\n",
        "#                   betweenness_centrality, degree_centrality]\n",
        "\n",
        "\n",
        "def comp_NCMatrix(G, cent_func_list): \n",
        "  dic_list = []\n",
        "  \n",
        "  for func in cent_func_list:\n",
        "    try:\n",
        "      seq = func(G)\n",
        "      dic_list.append(seq)\n",
        "    except:\n",
        "      print(f\"{func} not working\")\n",
        "  \n",
        "  def dict2arr():\n",
        "    nodes = [k for k in dic_list[0]]\n",
        "    arr = np.zeros((len(nodes),len(dic_list)))\n",
        "    for dic_idx,dic in enumerate(dic_list):\n",
        "      arr[:,dic_idx] = [v for k,v in dic.items()]\n",
        "    return arr\n",
        "  \n",
        "  CN = dict2arr()\n",
        "\n",
        "  return CN\n",
        "\n",
        "def ret_PCA(arr):\n",
        "  pca = PCA(n_components=1)\n",
        "  pca.fit(arr)\n",
        "  arr_trans = pca.fit_transform(arr)\n",
        "  return arr_trans, pca\n",
        "\n",
        "\n",
        "def compareNets(G1, G2, cent_func_list):\n",
        "  CN_G1 = comp_NCMatrix(G1, cent_func_list)\n",
        "  CN_G2 = comp_NCMatrix(G2, cent_func_list)\n",
        "\n",
        "  CN_G1_trans = ret_PCA(CN_G1)\n",
        "  CN_G2_trans = ret_PCA(CN_G2)\n",
        "\n",
        "  sim = abs(np.dot(CN_G1_trans.T, CN_G2_trans)/(norm(CN_G1_trans)*norm(CN_G2_trans)))\n",
        "  return np.squeeze(sim)\n",
        "\n",
        "def CNPCA(G, cent_func_list, pca_model=None):\n",
        "  CN_G = comp_NCMatrix(G, cent_func_list)\n",
        "  if pca_model is None:\n",
        "    CN_G_trans, pca = ret_PCA(CN_G)\n",
        "    return CN_G_trans, pca\n",
        "  else:\n",
        "    return pca_model.fit_transform(CN_G)"
      ],
      "execution_count": null,
      "outputs": []
    },
    {
      "cell_type": "code",
      "metadata": {
        "id": "MSX1U_aB3cMI"
      },
      "source": [
        "cent_func_list = [closeness_centrality, \n",
        "                  betweenness_centrality, degree_centrality\n",
        "                  ]\n",
        "\n",
        "CN_Gorg_trans, pca_model = CNPCA(G_orig, cent_func_list, None)\n",
        "CN_Ginf_trans = CNPCA(G_inf, cent_func_list, pca_model)\n",
        "CN_Gclq_trans = CNPCA(G_clique, cent_func_list, pca_model)\n",
        "\n",
        "# CN_Ginf_trans, pca_model = CNPCA(G_inf, cent_func_list, None)\n",
        "# CN_Gclq_trans, pca_model = CNPCA(G_clique, cent_func_list, None)\n"
      ],
      "execution_count": null,
      "outputs": []
    },
    {
      "cell_type": "code",
      "metadata": {
        "colab": {
          "base_uri": "https://localhost:8080/"
        },
        "id": "1MZmK9OF9khJ",
        "outputId": "46ee0985-9815-4179-a2c1-6327b08a3ed6"
      },
      "source": [
        "def sim_func(G1,G2):\n",
        "  G1 = np.squeeze(G1)\n",
        "  G2 = np.squeeze(G2)\n",
        "  sim = abs(np.dot(G1.T, G2)/(norm(G1)*norm(G2)))\n",
        "  # sim = abs(np.dot(G1.T, G2))\n",
        "  # sim = sklearn.metrics.mutual_info_score(G1,G2)\n",
        "  sim = np.exp(2*sim)/(1+np.exp(-2*sim))\n",
        "  return sim\n",
        "\n",
        "sim_inf = sim_func(CN_Ginf_trans,CN_Gorg_trans)\n",
        "sim_clique = sim_func(CN_Gclq_trans,CN_Gorg_trans)\n",
        "\n",
        "\n",
        "print(f\"Similarity Score using Influential seed : {sim_inf}\")\n",
        "print(f\"Similarity Score using Max clique seed: {sim_clique}\")"
      ],
      "execution_count": null,
      "outputs": [
        {
          "output_type": "stream",
          "text": [
            "Similarity Score using Influential seed : 0.5514315140540716\n",
            "Similarity Score using Max clique seed: 0.5016013393588593\n"
          ],
          "name": "stdout"
        }
      ]
    },
    {
      "cell_type": "markdown",
      "metadata": {
        "id": "oSukpdT_SSzF"
      },
      "source": [
        "# Analysis"
      ]
    },
    {
      "cell_type": "code",
      "metadata": {
        "id": "j-9Uyp-xqnHH"
      },
      "source": [
        "G = opt_G\n",
        "num_realisations = 20\n",
        "G_list = []\n",
        "for idx in range(num_realisations):\n",
        "    G = gen_network(G_seed_inf,G_orig,opt_nrp,opt_ncp,seed = idx)\n",
        "    G_list.append(G)"
      ],
      "execution_count": null,
      "outputs": []
    },
    {
      "cell_type": "code",
      "metadata": {
        "colab": {
          "base_uri": "https://localhost:8080/"
        },
        "id": "EDg8IxY_tGfQ",
        "outputId": "2d4b1063-dad9-436c-d845-59aa44dffa63"
      },
      "source": [
        "for idx in range(num_realisations):\n",
        "  print(f\"#### Generated network {idx+1} #####\")\n",
        "  print(nx.info(G_list[idx]))\n",
        "print()\n",
        "print(\"#### Original network #####\")\n",
        "print(nx.info(G_orig))"
      ],
      "execution_count": null,
      "outputs": [
        {
          "output_type": "stream",
          "text": [
            "#### Generated network 1 #####\n",
            "Name: \n",
            "Type: Graph\n",
            "Number of nodes: 1498\n",
            "Number of edges: 2437\n",
            "Average degree:   3.2537\n",
            "#### Generated network 2 #####\n",
            "Name: \n",
            "Type: Graph\n",
            "Number of nodes: 1498\n",
            "Number of edges: 2489\n",
            "Average degree:   3.3231\n",
            "#### Generated network 3 #####\n",
            "Name: \n",
            "Type: Graph\n",
            "Number of nodes: 1498\n",
            "Number of edges: 2741\n",
            "Average degree:   3.6595\n",
            "#### Generated network 4 #####\n",
            "Name: \n",
            "Type: Graph\n",
            "Number of nodes: 1498\n",
            "Number of edges: 2769\n",
            "Average degree:   3.6969\n",
            "#### Generated network 5 #####\n",
            "Name: \n",
            "Type: Graph\n",
            "Number of nodes: 1498\n",
            "Number of edges: 2823\n",
            "Average degree:   3.7690\n",
            "#### Generated network 6 #####\n",
            "Name: \n",
            "Type: Graph\n",
            "Number of nodes: 1498\n",
            "Number of edges: 2740\n",
            "Average degree:   3.6582\n",
            "#### Generated network 7 #####\n",
            "Name: \n",
            "Type: Graph\n",
            "Number of nodes: 1498\n",
            "Number of edges: 2511\n",
            "Average degree:   3.3525\n",
            "#### Generated network 8 #####\n",
            "Name: \n",
            "Type: Graph\n",
            "Number of nodes: 1498\n",
            "Number of edges: 2796\n",
            "Average degree:   3.7330\n",
            "#### Generated network 9 #####\n",
            "Name: \n",
            "Type: Graph\n",
            "Number of nodes: 1498\n",
            "Number of edges: 3401\n",
            "Average degree:   4.5407\n",
            "#### Generated network 10 #####\n",
            "Name: \n",
            "Type: Graph\n",
            "Number of nodes: 1498\n",
            "Number of edges: 3028\n",
            "Average degree:   4.0427\n",
            "#### Generated network 11 #####\n",
            "Name: \n",
            "Type: Graph\n",
            "Number of nodes: 1498\n",
            "Number of edges: 2659\n",
            "Average degree:   3.5501\n",
            "#### Generated network 12 #####\n",
            "Name: \n",
            "Type: Graph\n",
            "Number of nodes: 1498\n",
            "Number of edges: 2466\n",
            "Average degree:   3.2924\n",
            "#### Generated network 13 #####\n",
            "Name: \n",
            "Type: Graph\n",
            "Number of nodes: 1498\n",
            "Number of edges: 2619\n",
            "Average degree:   3.4967\n",
            "#### Generated network 14 #####\n",
            "Name: \n",
            "Type: Graph\n",
            "Number of nodes: 1498\n",
            "Number of edges: 2377\n",
            "Average degree:   3.1736\n",
            "#### Generated network 15 #####\n",
            "Name: \n",
            "Type: Graph\n",
            "Number of nodes: 1498\n",
            "Number of edges: 2728\n",
            "Average degree:   3.6422\n",
            "#### Generated network 16 #####\n",
            "Name: \n",
            "Type: Graph\n",
            "Number of nodes: 1498\n",
            "Number of edges: 2476\n",
            "Average degree:   3.3057\n",
            "#### Generated network 17 #####\n",
            "Name: \n",
            "Type: Graph\n",
            "Number of nodes: 1498\n",
            "Number of edges: 2517\n",
            "Average degree:   3.3605\n",
            "#### Generated network 18 #####\n",
            "Name: \n",
            "Type: Graph\n",
            "Number of nodes: 1498\n",
            "Number of edges: 2793\n",
            "Average degree:   3.7290\n",
            "#### Generated network 19 #####\n",
            "Name: \n",
            "Type: Graph\n",
            "Number of nodes: 1498\n",
            "Number of edges: 3085\n",
            "Average degree:   4.1188\n",
            "#### Generated network 20 #####\n",
            "Name: \n",
            "Type: Graph\n",
            "Number of nodes: 1498\n",
            "Number of edges: 2079\n",
            "Average degree:   2.7757\n",
            "\n",
            "#### Original network #####\n",
            "Name: Protein Interaction Graph\n",
            "Type: Graph\n",
            "Number of nodes: 1498\n",
            "Number of edges: 1817\n",
            "Average degree:   2.4259\n"
          ],
          "name": "stdout"
        }
      ]
    },
    {
      "cell_type": "code",
      "metadata": {
        "colab": {
          "base_uri": "https://localhost:8080/"
        },
        "id": "4V26Ao4QMHRV",
        "outputId": "9845df03-8ecd-4de6-8f47-cd5108753cf1"
      },
      "source": [
        "mean_edges = np.mean([len(G_list[idx].edges) for idx in range(num_realisations)])\n",
        "print(f\"Mean edges across {num_realisations} realisations: {int(mean_edges)}\")\n",
        "avg_deg_list = []\n",
        "for idx in range(num_realisations):\n",
        "  avg_deg = np.mean([d for n,d in G_list[idx].degree()])\n",
        "  avg_deg_list.append(avg_deg)\n",
        "print(f\"Mean avg degree across {num_realisations} realisations: {(np.mean(avg_deg_list))}\")"
      ],
      "execution_count": null,
      "outputs": [
        {
          "output_type": "stream",
          "text": [
            "Mean edges across 20 realisations: 2676\n",
            "Mean avg degree across 20 realisations: 3.57369826435247\n"
          ],
          "name": "stdout"
        }
      ]
    },
    {
      "cell_type": "markdown",
      "metadata": {
        "id": "vipj4LP7maJf"
      },
      "source": [
        "## Degree Distribution"
      ]
    },
    {
      "cell_type": "code",
      "metadata": {
        "id": "yrBZKUGAidb3"
      },
      "source": [
        "def compare_plots(dist_func, title = \"Degree Centrality\", logy = False):\n",
        "\n",
        "  deg_list = []\n",
        "  for idx in range(num_realisations):\n",
        "\n",
        "    degree_sequence = sorted([d for n, d in dist_func(G_list[idx]).items()], reverse=True)  # degree sequence\n",
        "    degreeCount = collections.Counter(degree_sequence)\n",
        "    deg, cnt = zip(*degreeCount.items())\n",
        "    deg_list.extend(list(deg))\n",
        "\n",
        "  fig, axs = plt.subplots(1,2, figsize = (15, 7), sharey = False)\n",
        "  # plt.bar(deg, cnt, width=0.80, color=\"b\")\n",
        "  hist, bins = np.histogram(deg_list, bins = 8)\n",
        "  # Normalize\n",
        "  hist_norm = hist / num_realisations\n",
        "  width = 0.9 * (bins[1] - bins[0])\n",
        "  center = (bins[:-1] + bins[1:]) / 2\n",
        "\n",
        "  ca = axs[0]\n",
        "\n",
        "  # plot the normalized frequencies\n",
        "  ca.bar(center, hist_norm, align='center', width=width)\n",
        "  ca.set_title(f\"Generated Network\", fontsize = 16)\n",
        "  ca.set_ylabel(\"Expected Counts\", fontsize = 16)\n",
        "  ca.set_xlabel(f\"{title}\", fontsize = 16)\n",
        "  if (logy):\n",
        "    ca.set_yscale('log', nonposy='clip')\n",
        "\n",
        "  degree_sequence = sorted([d for n, d in dist_func(G_orig).items()], reverse=True)  # degree sequence\n",
        "  degreeCount = collections.Counter(degree_sequence)\n",
        "  deg, cnt = zip(*degreeCount.items())\n",
        "\n",
        "  # plt.bar(deg, cnt, width=0.80, color=\"b\")\n",
        "  # plt.hist(deg)\n",
        "  # plt.title(\"Orignal Degree centrality\")\n",
        "  # plt.ylabel(\"Count\")\n",
        "  # plt.xlabel(\"Degree centrality\")\n",
        "  # plt.show()\n",
        "\n",
        "  hist, bins = np.histogram(deg, bins = 8)\n",
        "  width = 0.9 * (bins[1] - bins[0])\n",
        "  center = (bins[:-1] + bins[1:]) / 2\n",
        "\n",
        "  ca = axs[1]\n",
        "  ca.bar(center, hist, align='center', width=width)\n",
        "  ca.set_title(f\"Original Network\", fontsize = 16)\n",
        "  ca.set_ylabel(\"Observed Counts\", fontsize = 16)\n",
        "  ca.set_xlabel(f\"{title}\", fontsize = 16)\n",
        "  if (logy):\n",
        "    ca.set_yscale('log', nonposy='clip')\n",
        "  [ax.yaxis.set_tick_params(labelbottom=True) for ax in axs]\n",
        "  fig.suptitle(f'Comparison of {title} Distribution', fontsize = 20)\n",
        "  plt.savefig(f\"{title}.png\")\n",
        "  plt.show()"
      ],
      "execution_count": null,
      "outputs": []
    },
    {
      "cell_type": "code",
      "metadata": {
        "colab": {
          "base_uri": "https://localhost:8080/",
          "height": 498
        },
        "id": "IRLmbi2YCjxJ",
        "outputId": "b1461d4e-3845-40a8-dd77-53fe742bf082"
      },
      "source": [
        "compare_plots(nx.degree_centrality, title = \"Degree Centrality\")"
      ],
      "execution_count": null,
      "outputs": [
        {
          "output_type": "display_data",
          "data": {
            "image/png": "[encoded data removed]",
            "text/plain": [
              "<Figure size 1080x504 with 2 Axes>"
            ]
          },
          "metadata": {
            "tags": [],
            "needs_background": "light"
          }
        }
      ]
    },
    {
      "cell_type": "code",
      "metadata": {
        "colab": {
          "base_uri": "https://localhost:8080/"
        },
        "id": "yLA4nfWgAvmZ",
        "outputId": "2d23749e-471c-454e-8340-e3f040336144"
      },
      "source": [
        "ent_list = []\n",
        "dist2 = np.array(sorted([d for n, d in nx.degree_centrality(G_orig).items()], reverse=True))\n",
        "dist2 = dist2/sum(dist2)\n",
        "for idx in range(num_realisations):\n",
        "  G = G_list[idx]\n",
        "  dist1 = np.array(sorted([d for n, d in nx.degree_centrality(G).items()], reverse=True))\n",
        "  dist1 = dist1/sum(dist1)\n",
        "  ent = entropy(pk=dist1,qk=dist2)\n",
        "  if not(np.isinf(ent)):\n",
        "    ent_list.append(abs(ent))\n",
        "print(f\"Average entropy for degree centrality distribution: {np.mean(ent_list)}\")"
      ],
      "execution_count": null,
      "outputs": [
        {
          "output_type": "stream",
          "text": [
            "Average entropy for degree centrality distribution: 0.1316121066009492\n"
          ],
          "name": "stdout"
        }
      ]
    },
    {
      "cell_type": "markdown",
      "metadata": {
        "id": "H9tiHh-ZVJFc"
      },
      "source": [
        "## Betweeness centrality"
      ]
    },
    {
      "cell_type": "code",
      "metadata": {
        "colab": {
          "base_uri": "https://localhost:8080/",
          "height": 498
        },
        "id": "zIDZkOOrmf6k",
        "outputId": "61d829d1-58cf-449c-e569-19f6d8c5d358"
      },
      "source": [
        "compare_plots(nx.betweenness_centrality, \"Betweenness Centrality\", True)"
      ],
      "execution_count": null,
      "outputs": [
        {
          "output_type": "display_data",
          "data": {
            "image/png": "[encoded data removed]",
            "text/plain": [
              "<Figure size 1080x504 with 2 Axes>"
            ]
          },
          "metadata": {
            "tags": [],
            "needs_background": "light"
          }
        }
      ]
    },
    {
      "cell_type": "code",
      "metadata": {
        "colab": {
          "base_uri": "https://localhost:8080/"
        },
        "id": "hhkI5UOcB9NZ",
        "outputId": "65eac91a-25bd-49a6-d98a-01f6738c4a9c"
      },
      "source": [
        "ent_list = []\n",
        "dist2 = np.array(sorted([d for n, d in nx.betweenness_centrality(G_orig).items()], reverse=True))\n",
        "dist2 = dist2/sum(dist2)\n",
        "for idx in range(num_realisations):\n",
        "  G = G_list[idx]\n",
        "  dist1 = np.array(sorted([d for n, d in nx.betweenness_centrality(G).items()], reverse=True))\n",
        "  dist1 = dist1/sum(dist1)\n",
        "  ent = entropy(pk=dist1,qk=dist2)\n",
        "  if not(np.isinf(ent)):\n",
        "    ent_list.append(abs(ent))\n",
        "print(f\"Average entropy for betweenness centrality distribution: {np.mean(ent_list)}\")"
      ],
      "execution_count": null,
      "outputs": [
        {
          "output_type": "stream",
          "text": [
            "Average entropy for betweenness centrality distribution: nan\n"
          ],
          "name": "stdout"
        },
        {
          "output_type": "stream",
          "text": [
            "/usr/local/lib/python3.7/dist-packages/numpy/core/fromnumeric.py:3373: RuntimeWarning: Mean of empty slice.\n",
            "  out=out, **kwargs)\n",
            "/usr/local/lib/python3.7/dist-packages/numpy/core/_methods.py:170: RuntimeWarning: invalid value encountered in double_scalars\n",
            "  ret = ret.dtype.type(ret / rcount)\n"
          ],
          "name": "stderr"
        }
      ]
    },
    {
      "cell_type": "markdown",
      "metadata": {
        "id": "kaULm689omnB"
      },
      "source": [
        "## Closeness centrality"
      ]
    },
    {
      "cell_type": "code",
      "metadata": {
        "colab": {
          "base_uri": "https://localhost:8080/",
          "height": 498
        },
        "id": "X6ESbsk-oMGU",
        "outputId": "861e243b-d560-4fb7-da07-1702fc5c8ff7"
      },
      "source": [
        "compare_plots(nx.closeness_centrality, \"Closeness Centrality\")"
      ],
      "execution_count": null,
      "outputs": [
        {
          "output_type": "display_data",
          "data": {
            "image/png": "[encoded data removed]",
            "text/plain": [
              "<Figure size 1080x504 with 2 Axes>"
            ]
          },
          "metadata": {
            "tags": [],
            "needs_background": "light"
          }
        }
      ]
    },
    {
      "cell_type": "code",
      "metadata": {
        "colab": {
          "base_uri": "https://localhost:8080/"
        },
        "id": "baBO3WMaAstB",
        "outputId": "fa6d0966-173b-4aa0-a1f5-8ad3ff549007"
      },
      "source": [
        "ent_list = []\n",
        "dist2 = np.array(sorted([d for n, d in nx.closeness_centrality(G_orig).items()], reverse=True))\n",
        "dist2 = dist2/sum(dist2)\n",
        "for idx in range(num_realisations):\n",
        "  G = G_list[idx]\n",
        "  dist1 = np.array(sorted([d for n, d in nx.closeness_centrality(G).items()], reverse=True))\n",
        "  dist1 = dist1/sum(dist1)\n",
        "  ent = entropy(pk=dist1,qk=dist2)\n",
        "  ent_list.append(abs(ent))\n",
        "print(f\"Average entropy for closeness centrality distribution: {np.mean(ent_list)}\")"
      ],
      "execution_count": null,
      "outputs": [
        {
          "output_type": "stream",
          "text": [
            "Average entropy for closeness centrality distribution: 0.41843338833798455\n"
          ],
          "name": "stdout"
        }
      ]
    },
    {
      "cell_type": "code",
      "metadata": {
        "id": "Z72DuUpFDDx2"
      },
      "source": [
        ""
      ],
      "execution_count": null,
      "outputs": []
    }
  ]
}